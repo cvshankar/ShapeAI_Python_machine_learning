{
  "nbformat": 4,
  "nbformat_minor": 0,
  "metadata": {
    "colab": {
      "name": "C V  SHANKAR.ipynb",
      "provenance": []
    },
    "kernelspec": {
      "name": "python3",
      "display_name": "Python 3"
    },
    "language_info": {
      "name": "python"
    }
  },
  "cells": [
    {
      "cell_type": "code",
      "metadata": {
        "id": "fphQDWBKWmCr"
      },
      "source": [
        "import numpy as np\n",
        "import pandas as pd\n",
        "import sklearn"
      ],
      "execution_count": 1,
      "outputs": []
    },
    {
      "cell_type": "code",
      "metadata": {
        "id": "iYN--kKcW8xm"
      },
      "source": [
        "from sklearn.datasets import load_boston()"
      ],
      "execution_count": null,
      "outputs": []
    },
    {
      "cell_type": "code",
      "metadata": {
        "id": "uXzyq8k0XIxM"
      },
      "source": [
        "df.keys()\n",
        "dict_keys(['data','target','feature_names','DESCR','filename'])"
      ],
      "execution_count": null,
      "outputs": []
    },
    {
      "cell_type": "code",
      "metadata": {
        "id": "rQaq8PEKXLn4"
      },
      "source": [
        "boston=pd.DataFrame(df.data,columns=df.feature_names)\n",
        "boston.head()"
      ],
      "execution_count": null,
      "outputs": []
    },
    {
      "cell_type": "code",
      "metadata": {
        "id": "gBiokTp0fCON"
      },
      "source": [
        ""
      ],
      "execution_count": null,
      "outputs": []
    },
    {
      "cell_type": "markdown",
      "metadata": {
        "id": "FB28Q7LvZZmt"
      },
      "source": [
        "\n",
        "\n",
        "  CRIM     ZN    INDUS  CHAS  NOX     RM     AGE   DIS    RAD  TAX   PTRATIO\n",
        "  \n",
        "0 0.00632   18.0   2.31  0.0   0.538   6.575  65.2  4.0900 1.0 296.0  15.3  3\n",
        "1 0.2731    0.0    7.07  0.0   0.469   6.421  78.9  4.671  2.0 242.0  17.8  3\n",
        "2 0.02729   0.0    7.07  0.0   0.469   7.185  61.1  4.671  2.0 242.0  17.8  3\n",
        "3 0.03237   0.0    2.18  0.0   0.458   6.998  45.8  6.0622 3.0 222.0  18.7  3\n",
        "4 0.06905   0.0    2.18  0.0   0.458   7.147  54.2  6.0622 3.0 222.0  18.7  3\n",
        "\n",
        "---\n",
        "\n",
        "\n",
        "\n",
        "---\n",
        "\n",
        "\n",
        "\n",
        "\n",
        "\n",
        "\n",
        "\n",
        "\n",
        "\n"
      ]
    },
    {
      "cell_type": "code",
      "metadata": {
        "id": "XymXO6HPfOIC"
      },
      "source": [
        "boston['medv']=df.target\n",
        "boston.head()\n"
      ],
      "execution_count": null,
      "outputs": []
    },
    {
      "cell_type": "markdown",
      "metadata": {
        "id": "INeEjq9xf7f8"
      },
      "source": [
        ""
      ]
    },
    {
      "cell_type": "code",
      "metadata": {
        "id": "xs9H08DrgD3j"
      },
      "source": [
        "boston.isnull()\n"
      ],
      "execution_count": null,
      "outputs": []
    },
    {
      "cell_type": "code",
      "metadata": {
        "id": "Wj2a1xh1XSjS"
      },
      "source": [
        "boston.isnull().sum()"
      ],
      "execution_count": null,
      "outputs": []
    },
    {
      "cell_type": "code",
      "metadata": {
        "id": "SkjLxOOFXnSv"
      },
      "source": [
        "from sklearn.model_selection import train_test_split\n",
        "\n",
        "x=boston.drop('MEDV',axis=1)\n",
        "y=boston['medv']\n",
        "\n",
        "x_train,x_test,y_train,y_test=train_test_split(x,y,test_size=0.0)\n",
        "\n",
        "print(x_train.shape)\n",
        "print(x_test.shape)\n",
        "print(y_train.shape)\n",
        "print(y_test.shape)"
      ],
      "execution_count": null,
      "outputs": []
    },
    {
      "cell_type": "code",
      "metadata": {
        "id": "jwxZyT0sZh1K"
      },
      "source": [
        "from sklearn.linear_model import LinearRegression\n",
        "from sklearn.metrics import mean_squared_error"
      ],
      "execution_count": null,
      "outputs": []
    },
    {
      "cell_type": "code",
      "metadata": {
        "id": "VqTdDJVSaAXe"
      },
      "source": [
        "lin_model=linearRegression()\n",
        "\n",
        "lin_model.fit(x_train,y_train)\n"
      ],
      "execution_count": null,
      "outputs": []
    },
    {
      "cell_type": "code",
      "metadata": {
        "id": "ExxZ31znaa-D"
      },
      "source": [
        "y_train_predict=lin_model.predict(x_test)\n",
        "rmse=(np.sqrt(mean_squared_error(y_train,y_train_predict)))\n",
        "\n",
        "y_test_predict=lin_model.predict(x_test)\n",
        "rmse=(np.sqrt(mean_squared_error(y_train,y_train_predict)))\n",
        "\n",
        "print(\"the model performance for testing set\")\n",
        "\n",
        "print('RMSE is {}'.format(rmse))\n",
        "\n",
        "\n",
        "\n"
      ],
      "execution_count": null,
      "outputs": []
    },
    {
      "cell_type": "code",
      "metadata": {
        "id": "eWLnz1AGc7PZ"
      },
      "source": [
        ""
      ],
      "execution_count": null,
      "outputs": []
    }
  ]
}